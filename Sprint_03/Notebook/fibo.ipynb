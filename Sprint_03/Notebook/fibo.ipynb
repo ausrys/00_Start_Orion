{
 "cells": [
  {
   "cell_type": "code",
   "execution_count": null,
   "id": "20e97e7a",
   "metadata": {},
   "outputs": [],
   "source": [
    "cache: dict = {}"
   ]
  },
  {
   "cell_type": "code",
   "execution_count": null,
   "id": "bd177015",
   "metadata": {},
   "outputs": [],
   "source": [
    "def recur_fibo(n: int) -> int:\n",
    "        # Check if the value is already cached\n",
    "        if n in cache:\n",
    "            return cache[n]\n",
    "\n",
    "        if n <= 1:\n",
    "            return n\n",
    "        # Compute and cache the Fibonacci value\n",
    "        result = recur_fibo(n - 1) + recur_fibo(n - 2)\n",
    "        cache[n] = result\n",
    "        return cache[n]"
   ]
  },
  {
   "cell_type": "code",
   "execution_count": null,
   "id": "264494ec",
   "metadata": {},
   "outputs": [],
   "source": [
    "print(recur_fibo(10))"
   ]
  }
 ],
 "metadata": {
  "kernelspec": {
   "display_name": "Python 3",
   "language": "python",
   "name": "python3"
  },
  "language_info": {
   "name": "python",
   "version": "3.13.2"
  }
 },
 "nbformat": 4,
 "nbformat_minor": 5
}
